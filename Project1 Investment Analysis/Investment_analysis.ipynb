{
 "cells": [
  {
   "cell_type": "markdown",
   "metadata": {},
   "source": [
    "## Checkpoint 1: Data Cleaning \n",
    "<br>\n",
    "Creating master dataframe and solving question for table 1.1"
   ]
  },
  {
   "cell_type": "code",
   "execution_count": 1,
   "metadata": {},
   "outputs": [],
   "source": [
    "import numpy as np\n",
    "import pandas as pd\n",
    "import matplotlib.pyplot as plt\n",
    "from IPython.display import display\n",
    "import seaborn as sns\n",
    "\n",
    "companiesCSVPath = \"companies.csv\"\n",
    "round2CSVPath = \"rounds2.csv\"\n",
    "mappingPath = \"mapping.csv\"\n",
    "\n",
    "# Reading datasets\n",
    "companiesDF = pd.read_csv(companiesCSVPath,encoding=\"palmos\",sep=',')\n",
    "rounds2DF = pd.read_csv(round2CSVPath,encoding='palmos',sep=',')\n",
    "\n",
    "#dropping unnecessary columns\n",
    "companiesDF = companiesDF.drop([\"homepage_url\",\"status\",\"state_code\",\"region\",\"city\",\"founded_at\"],axis=1)\n",
    "rounds2DF = rounds2DF.drop([\"funding_round_permalink\",\"funding_round_code\",\"funded_at\"],axis=1)\n",
    "\n",
    "\n",
    "# Cleaning data\n",
    "rounds2DF = rounds2DF[~np.isnan(rounds2DF['raised_amount_usd'])]\n",
    "companiesDF = companiesDF[companiesDF[\"category_list\"].notnull() & companiesDF[\"country_code\"].notnull()]\n",
    "\n",
    "# Converting to lowercase for equality comparison \n",
    "companiesDF[\"permalink\"] = companiesDF[\"permalink\"].str.lower()\n",
    "rounds2DF[\"company_permalink\"] = rounds2DF[\"company_permalink\"].str.lower()"
   ]
  },
  {
   "cell_type": "code",
   "execution_count": 2,
   "metadata": {},
   "outputs": [
    {
     "name": "stdout",
     "output_type": "stream",
     "text": [
      "Unique Companies in Companies 57804\n",
      "Unique Companies in Round2 53915\n",
      "some companies are there in round2 and not in companies\n"
     ]
    }
   ],
   "source": [
    "# Finding unique companies in companies and round2\n",
    "uniqueCompaniesCompanies = companiesDF[\"permalink\"].drop_duplicates(inplace=False)\n",
    "uniqueRound2Companies = rounds2DF[\"company_permalink\"].drop_duplicates(inplace=False)\n",
    "\n",
    "print(\"Unique Companies in Companies\",uniqueCompaniesCompanies.count())\n",
    "print(\"Unique Companies in Round2\",uniqueRound2Companies.count())\n",
    "\n",
    "# # Checking if some companies are present in round2 and not in companies\n",
    "isInCompany = rounds2DF[\"company_permalink\"].isin(uniqueCompaniesCompanies).to_frame();\n",
    "isInCompany = isInCompany[isInCompany[\"company_permalink\"] == False]\n",
    "disconnectedCompanies = len(isInCompany.index);\n",
    "\n",
    "if disconnectedCompanies > 0 :\n",
    "    print(\"some companies are there in round2 and not in companies\")\n",
    "else:\n",
    "    print(\"both companies and round2 have same companies\")"
   ]
  },
  {
   "cell_type": "code",
   "execution_count": 3,
   "metadata": {
    "scrolled": false
   },
   "outputs": [
    {
     "name": "stdout",
     "output_type": "stream",
     "text": [
      "Total rows in Master Frame :  88529\n"
     ]
    }
   ],
   "source": [
    "#Creating master frame\n",
    "master_frame= pd.merge(companiesDF,rounds2DF,how=\"inner\",left_on=\"permalink\",right_on=\"company_permalink\")\n",
    "print(\"Total rows in Master Frame : \",len(master_frame.index))"
   ]
  },
  {
   "cell_type": "markdown",
   "metadata": {},
   "source": [
    "## Checkpoint 2: Funding Type analysis \n",
    "<br>\n",
    "Creating master dataframe and solving question for table 1.1m"
   ]
  },
  {
   "cell_type": "code",
   "execution_count": 4,
   "metadata": {
    "scrolled": true
   },
   "outputs": [
    {
     "data": {
      "text/html": [
       "<div>\n",
       "<style scoped>\n",
       "    .dataframe tbody tr th:only-of-type {\n",
       "        vertical-align: middle;\n",
       "    }\n",
       "\n",
       "    .dataframe tbody tr th {\n",
       "        vertical-align: top;\n",
       "    }\n",
       "\n",
       "    .dataframe thead th {\n",
       "        text-align: right;\n",
       "    }\n",
       "</style>\n",
       "<table border=\"1\" class=\"dataframe\">\n",
       "  <thead>\n",
       "    <tr style=\"text-align: right;\">\n",
       "      <th></th>\n",
       "      <th>funding_round_type</th>\n",
       "      <th>raised_amount_usd</th>\n",
       "    </tr>\n",
       "  </thead>\n",
       "  <tbody>\n",
       "    <tr>\n",
       "      <th>1</th>\n",
       "      <td>private_equity</td>\n",
       "      <td>73938486.275</td>\n",
       "    </tr>\n",
       "    <tr>\n",
       "      <th>3</th>\n",
       "      <td>venture</td>\n",
       "      <td>11724222.690</td>\n",
       "    </tr>\n",
       "    <tr>\n",
       "      <th>0</th>\n",
       "      <td>angel</td>\n",
       "      <td>971573.891</td>\n",
       "    </tr>\n",
       "    <tr>\n",
       "      <th>2</th>\n",
       "      <td>seed</td>\n",
       "      <td>747793.682</td>\n",
       "    </tr>\n",
       "  </tbody>\n",
       "</table>\n",
       "</div>"
      ],
      "text/plain": [
       "  funding_round_type  raised_amount_usd\n",
       "1     private_equity       73938486.275\n",
       "3            venture       11724222.690\n",
       "0              angel         971573.891\n",
       "2               seed         747793.682"
      ]
     },
     "execution_count": 4,
     "metadata": {},
     "output_type": "execute_result"
    }
   ],
   "source": [
    "pd.set_option('display.float_format', lambda x: '%.3f' % x)\n",
    "\n",
    "\n",
    "##Grouping the data based on required funding types and calculating the average funding  \n",
    "byRoundTypeInvestment = master_frame[master_frame.funding_round_type.isin([\"seed\",\"angel\",\"private_equity\",\"venture\"])]\n",
    "byInvestment = byRoundTypeInvestment.groupby(\"funding_round_type\").mean()[\"raised_amount_usd\"].reset_index().sort_values(by=\"raised_amount_usd\",ascending=0)\n",
    "byInvestment.head(4)\n",
    "\n"
   ]
  },
  {
   "cell_type": "markdown",
   "metadata": {},
   "source": [
    "### Checkpoint 3: Country Analysis\n",
    "<br>\n",
    "Calculating top 9 english speaking countries based on investment amount \n",
    "<br>\n",
    "Selected Funding Type : <b>Venture</b>"
   ]
  },
  {
   "cell_type": "code",
   "execution_count": 5,
   "metadata": {
    "scrolled": false
   },
   "outputs": [
    {
     "name": "stdout",
     "output_type": "stream",
     "text": [
      "Top 9 Countries by total investment :\n"
     ]
    },
    {
     "data": {
      "text/html": [
       "<div>\n",
       "<style scoped>\n",
       "    .dataframe tbody tr th:only-of-type {\n",
       "        vertical-align: middle;\n",
       "    }\n",
       "\n",
       "    .dataframe tbody tr th {\n",
       "        vertical-align: top;\n",
       "    }\n",
       "\n",
       "    .dataframe thead th {\n",
       "        text-align: right;\n",
       "    }\n",
       "</style>\n",
       "<table border=\"1\" class=\"dataframe\">\n",
       "  <thead>\n",
       "    <tr style=\"text-align: right;\">\n",
       "      <th></th>\n",
       "      <th>country_code</th>\n",
       "      <th>raised_amount_usd</th>\n",
       "    </tr>\n",
       "  </thead>\n",
       "  <tbody>\n",
       "    <tr>\n",
       "      <th>94</th>\n",
       "      <td>USA</td>\n",
       "      <td>420068029342.000</td>\n",
       "    </tr>\n",
       "    <tr>\n",
       "      <th>15</th>\n",
       "      <td>CHN</td>\n",
       "      <td>39338918773.000</td>\n",
       "    </tr>\n",
       "    <tr>\n",
       "      <th>29</th>\n",
       "      <td>GBR</td>\n",
       "      <td>20072813004.000</td>\n",
       "    </tr>\n",
       "    <tr>\n",
       "      <th>39</th>\n",
       "      <td>IND</td>\n",
       "      <td>14261508718.000</td>\n",
       "    </tr>\n",
       "    <tr>\n",
       "      <th>12</th>\n",
       "      <td>CAN</td>\n",
       "      <td>9482217668.000</td>\n",
       "    </tr>\n",
       "    <tr>\n",
       "      <th>28</th>\n",
       "      <td>FRA</td>\n",
       "      <td>7226851352.000</td>\n",
       "    </tr>\n",
       "    <tr>\n",
       "      <th>42</th>\n",
       "      <td>ISR</td>\n",
       "      <td>6854350477.000</td>\n",
       "    </tr>\n",
       "    <tr>\n",
       "      <th>21</th>\n",
       "      <td>DEU</td>\n",
       "      <td>6306921981.000</td>\n",
       "    </tr>\n",
       "    <tr>\n",
       "      <th>45</th>\n",
       "      <td>JPN</td>\n",
       "      <td>3167647127.000</td>\n",
       "    </tr>\n",
       "  </tbody>\n",
       "</table>\n",
       "</div>"
      ],
      "text/plain": [
       "   country_code  raised_amount_usd\n",
       "94          USA   420068029342.000\n",
       "15          CHN    39338918773.000\n",
       "29          GBR    20072813004.000\n",
       "39          IND    14261508718.000\n",
       "12          CAN     9482217668.000\n",
       "28          FRA     7226851352.000\n",
       "42          ISR     6854350477.000\n",
       "21          DEU     6306921981.000\n",
       "45          JPN     3167647127.000"
      ]
     },
     "metadata": {},
     "output_type": "display_data"
    },
    {
     "name": "stdout",
     "output_type": "stream",
     "text": [
      "Top 3 English Speaking Countries by total investment :\n"
     ]
    },
    {
     "data": {
      "text/html": [
       "<div>\n",
       "<style scoped>\n",
       "    .dataframe tbody tr th:only-of-type {\n",
       "        vertical-align: middle;\n",
       "    }\n",
       "\n",
       "    .dataframe tbody tr th {\n",
       "        vertical-align: top;\n",
       "    }\n",
       "\n",
       "    .dataframe thead th {\n",
       "        text-align: right;\n",
       "    }\n",
       "</style>\n",
       "<table border=\"1\" class=\"dataframe\">\n",
       "  <thead>\n",
       "    <tr style=\"text-align: right;\">\n",
       "      <th></th>\n",
       "      <th>country_code</th>\n",
       "      <th>raised_amount_usd</th>\n",
       "    </tr>\n",
       "  </thead>\n",
       "  <tbody>\n",
       "    <tr>\n",
       "      <th>94</th>\n",
       "      <td>USA</td>\n",
       "      <td>420068029342.000</td>\n",
       "    </tr>\n",
       "    <tr>\n",
       "      <th>29</th>\n",
       "      <td>GBR</td>\n",
       "      <td>20072813004.000</td>\n",
       "    </tr>\n",
       "    <tr>\n",
       "      <th>39</th>\n",
       "      <td>IND</td>\n",
       "      <td>14261508718.000</td>\n",
       "    </tr>\n",
       "  </tbody>\n",
       "</table>\n",
       "</div>"
      ],
      "text/plain": [
       "   country_code  raised_amount_usd\n",
       "94          USA   420068029342.000\n",
       "29          GBR    20072813004.000\n",
       "39          IND    14261508718.000"
      ]
     },
     "metadata": {},
     "output_type": "display_data"
    }
   ],
   "source": [
    "\n",
    "ventureInvestments = master_frame[master_frame[\"funding_round_type\"] == \"venture\"].copy()\n",
    "\n",
    "## list of codes of english speaking countries\n",
    "englishSpeakingCountries = [\"AUS\",\"NZL\",\"GBR\",\"USA\",\"ATG\",\"BHS\",\"BRB\",\"BLZ\",\"BWA\",\"BDI\",\"CMR\",\"CAN\",\"COK\",\"DMA\",\"SWZ\",\"FJI\",\"GMB\",\"GHA\",\"GRD\",\"GUY\",\"IND\",\"IRL\",\"JAM\",\"KEN\",\"KIR\",\"LSO\",\"LBR\",\"MWI\",\"MLT\",\"MHL\",\"MUS\",\"FSM\",\"NAM\",\"NRU\",\"NGA\",\"NIU\",\"PAK\",\"PLW\",\"PNG\",\"PHL\",\"RWA\",\"KNA\",\"LCA\",\"VCT\",\"WSM\",\"SYC\",\"SLE\",\"SGP\",\"SLB\",\"ZAF\",\"SSD\",\"SDN\",\"TZA\",\"TON\",\"TTO\",\"TUV\",\"UGA\",\"VUT\",\"ZMB\",\"ZWE\"]\n",
    "\n",
    "#top 9 english speaking countries based on investment in the required funding type\n",
    "top9= pd.DataFrame(ventureInvestments.groupby(\"country_code\")[\"raised_amount_usd\"].sum().reset_index().nlargest(9,\"raised_amount_usd\"))\n",
    "top3 = top9[top9[\"country_code\"].isin(englishSpeakingCountries)].head()[0:3]\n",
    "print(\"Top 9 Countries by total investment :\")\n",
    "display(top9)\n",
    "print(\"Top 3 English Speaking Countries by total investment :\")\n",
    "display(top3)"
   ]
  },
  {
   "cell_type": "markdown",
   "metadata": {},
   "source": [
    "### Checkpoint 4: Sector Analysis 1\n",
    "<br>\n",
    "Extracting primary sector and mapping of main sector based on primary sector"
   ]
  },
  {
   "cell_type": "code",
   "execution_count": 6,
   "metadata": {},
   "outputs": [
    {
     "data": {
      "text/html": [
       "<div>\n",
       "<style scoped>\n",
       "    .dataframe tbody tr th:only-of-type {\n",
       "        vertical-align: middle;\n",
       "    }\n",
       "\n",
       "    .dataframe tbody tr th {\n",
       "        vertical-align: top;\n",
       "    }\n",
       "\n",
       "    .dataframe thead th {\n",
       "        text-align: right;\n",
       "    }\n",
       "</style>\n",
       "<table border=\"1\" class=\"dataframe\">\n",
       "  <thead>\n",
       "    <tr style=\"text-align: right;\">\n",
       "      <th></th>\n",
       "      <th>permalink</th>\n",
       "      <th>name</th>\n",
       "      <th>category_list</th>\n",
       "      <th>country_code</th>\n",
       "      <th>company_permalink</th>\n",
       "      <th>funding_round_type</th>\n",
       "      <th>raised_amount_usd</th>\n",
       "      <th>primary_sector</th>\n",
       "      <th>main_sector</th>\n",
       "    </tr>\n",
       "  </thead>\n",
       "  <tbody>\n",
       "    <tr>\n",
       "      <th>0</th>\n",
       "      <td>/organization/-fame</td>\n",
       "      <td>#fame</td>\n",
       "      <td>Media</td>\n",
       "      <td>IND</td>\n",
       "      <td>/organization/-fame</td>\n",
       "      <td>venture</td>\n",
       "      <td>10000000.000</td>\n",
       "      <td>Media</td>\n",
       "      <td>Entertainment</td>\n",
       "    </tr>\n",
       "    <tr>\n",
       "      <th>2</th>\n",
       "      <td>/organization/0-6-com</td>\n",
       "      <td>0-6.com</td>\n",
       "      <td>Curated Web</td>\n",
       "      <td>CHN</td>\n",
       "      <td>/organization/0-6-com</td>\n",
       "      <td>venture</td>\n",
       "      <td>2000000.000</td>\n",
       "      <td>Curated Web</td>\n",
       "      <td>News, Search and Messaging</td>\n",
       "    </tr>\n",
       "    <tr>\n",
       "      <th>5</th>\n",
       "      <td>/organization/0ndine-biomedical-inc</td>\n",
       "      <td>Ondine Biomedical Inc.</td>\n",
       "      <td>Biotechnology</td>\n",
       "      <td>CAN</td>\n",
       "      <td>/organization/0ndine-biomedical-inc</td>\n",
       "      <td>venture</td>\n",
       "      <td>719491.000</td>\n",
       "      <td>Biotechnology</td>\n",
       "      <td>Cleantech / Semiconductors</td>\n",
       "    </tr>\n",
       "    <tr>\n",
       "      <th>7</th>\n",
       "      <td>/organization/0xdata</td>\n",
       "      <td>H2O.ai</td>\n",
       "      <td>Analytics</td>\n",
       "      <td>USA</td>\n",
       "      <td>/organization/0xdata</td>\n",
       "      <td>venture</td>\n",
       "      <td>20000000.000</td>\n",
       "      <td>Analytics</td>\n",
       "      <td>Social, Finance, Analytics, Advertising</td>\n",
       "    </tr>\n",
       "    <tr>\n",
       "      <th>8</th>\n",
       "      <td>/organization/0xdata</td>\n",
       "      <td>H2O.ai</td>\n",
       "      <td>Analytics</td>\n",
       "      <td>USA</td>\n",
       "      <td>/organization/0xdata</td>\n",
       "      <td>venture</td>\n",
       "      <td>1700000.000</td>\n",
       "      <td>Analytics</td>\n",
       "      <td>Social, Finance, Analytics, Advertising</td>\n",
       "    </tr>\n",
       "    <tr>\n",
       "      <th>...</th>\n",
       "      <td>...</td>\n",
       "      <td>...</td>\n",
       "      <td>...</td>\n",
       "      <td>...</td>\n",
       "      <td>...</td>\n",
       "      <td>...</td>\n",
       "      <td>...</td>\n",
       "      <td>...</td>\n",
       "      <td>...</td>\n",
       "    </tr>\n",
       "    <tr>\n",
       "      <th>88513</th>\n",
       "      <td>/organization/zyraz-technology</td>\n",
       "      <td>Zyraz Technology</td>\n",
       "      <td>Biotechnology</td>\n",
       "      <td>MYS</td>\n",
       "      <td>/organization/zyraz-technology</td>\n",
       "      <td>venture</td>\n",
       "      <td>7991547.000</td>\n",
       "      <td>Biotechnology</td>\n",
       "      <td>Cleantech / Semiconductors</td>\n",
       "    </tr>\n",
       "    <tr>\n",
       "      <th>88516</th>\n",
       "      <td>/organization/zyrra</td>\n",
       "      <td>Zyrra</td>\n",
       "      <td>E-Commerce</td>\n",
       "      <td>USA</td>\n",
       "      <td>/organization/zyrra</td>\n",
       "      <td>venture</td>\n",
       "      <td>140500.000</td>\n",
       "      <td>E-Commerce</td>\n",
       "      <td>Others</td>\n",
       "    </tr>\n",
       "    <tr>\n",
       "      <th>88518</th>\n",
       "      <td>/organization/zystor</td>\n",
       "      <td>Zystor</td>\n",
       "      <td>Biotechnology</td>\n",
       "      <td>USA</td>\n",
       "      <td>/organization/zystor</td>\n",
       "      <td>venture</td>\n",
       "      <td>8500000.000</td>\n",
       "      <td>Biotechnology</td>\n",
       "      <td>Cleantech / Semiconductors</td>\n",
       "    </tr>\n",
       "    <tr>\n",
       "      <th>88519</th>\n",
       "      <td>/organization/zytoprotec</td>\n",
       "      <td>Zytoprotec</td>\n",
       "      <td>Biotechnology</td>\n",
       "      <td>AUT</td>\n",
       "      <td>/organization/zytoprotec</td>\n",
       "      <td>venture</td>\n",
       "      <td>2686600.000</td>\n",
       "      <td>Biotechnology</td>\n",
       "      <td>Cleantech / Semiconductors</td>\n",
       "    </tr>\n",
       "    <tr>\n",
       "      <th>88523</th>\n",
       "      <td>/organization/zznode-science-and-technology-co...</td>\n",
       "      <td>ZZNode Science and Technology</td>\n",
       "      <td>Enterprise Software</td>\n",
       "      <td>CHN</td>\n",
       "      <td>/organization/zznode-science-and-technology-co...</td>\n",
       "      <td>venture</td>\n",
       "      <td>1587301.000</td>\n",
       "      <td>Enterprise Software</td>\n",
       "      <td>Others</td>\n",
       "    </tr>\n",
       "  </tbody>\n",
       "</table>\n",
       "<p>47619 rows × 9 columns</p>\n",
       "</div>"
      ],
      "text/plain": [
       "                                               permalink  \\\n",
       "0                                    /organization/-fame   \n",
       "2                                  /organization/0-6-com   \n",
       "5                    /organization/0ndine-biomedical-inc   \n",
       "7                                   /organization/0xdata   \n",
       "8                                   /organization/0xdata   \n",
       "...                                                  ...   \n",
       "88513                     /organization/zyraz-technology   \n",
       "88516                                /organization/zyrra   \n",
       "88518                               /organization/zystor   \n",
       "88519                           /organization/zytoprotec   \n",
       "88523  /organization/zznode-science-and-technology-co...   \n",
       "\n",
       "                                name        category_list country_code  \\\n",
       "0                              #fame                Media          IND   \n",
       "2                            0-6.com          Curated Web          CHN   \n",
       "5             Ondine Biomedical Inc.        Biotechnology          CAN   \n",
       "7                             H2O.ai            Analytics          USA   \n",
       "8                             H2O.ai            Analytics          USA   \n",
       "...                              ...                  ...          ...   \n",
       "88513               Zyraz Technology        Biotechnology          MYS   \n",
       "88516                          Zyrra           E-Commerce          USA   \n",
       "88518                         Zystor        Biotechnology          USA   \n",
       "88519                     Zytoprotec        Biotechnology          AUT   \n",
       "88523  ZZNode Science and Technology  Enterprise Software          CHN   \n",
       "\n",
       "                                       company_permalink funding_round_type  \\\n",
       "0                                    /organization/-fame            venture   \n",
       "2                                  /organization/0-6-com            venture   \n",
       "5                    /organization/0ndine-biomedical-inc            venture   \n",
       "7                                   /organization/0xdata            venture   \n",
       "8                                   /organization/0xdata            venture   \n",
       "...                                                  ...                ...   \n",
       "88513                     /organization/zyraz-technology            venture   \n",
       "88516                                /organization/zyrra            venture   \n",
       "88518                               /organization/zystor            venture   \n",
       "88519                           /organization/zytoprotec            venture   \n",
       "88523  /organization/zznode-science-and-technology-co...            venture   \n",
       "\n",
       "       raised_amount_usd       primary_sector  \\\n",
       "0           10000000.000                Media   \n",
       "2            2000000.000          Curated Web   \n",
       "5             719491.000        Biotechnology   \n",
       "7           20000000.000            Analytics   \n",
       "8            1700000.000            Analytics   \n",
       "...                  ...                  ...   \n",
       "88513        7991547.000        Biotechnology   \n",
       "88516         140500.000           E-Commerce   \n",
       "88518        8500000.000        Biotechnology   \n",
       "88519        2686600.000        Biotechnology   \n",
       "88523        1587301.000  Enterprise Software   \n",
       "\n",
       "                                   main_sector  \n",
       "0                                Entertainment  \n",
       "2                   News, Search and Messaging  \n",
       "5                   Cleantech / Semiconductors  \n",
       "7      Social, Finance, Analytics, Advertising  \n",
       "8      Social, Finance, Analytics, Advertising  \n",
       "...                                        ...  \n",
       "88513               Cleantech / Semiconductors  \n",
       "88516                                   Others  \n",
       "88518               Cleantech / Semiconductors  \n",
       "88519               Cleantech / Semiconductors  \n",
       "88523                                   Others  \n",
       "\n",
       "[47619 rows x 9 columns]"
      ]
     },
     "execution_count": 6,
     "metadata": {},
     "output_type": "execute_result"
    }
   ],
   "source": [
    "# ##reading mapping file\n",
    "mappingDf = pd.read_csv(mappingPath)\n",
    "mappingDf = mappingDf[1:]\n",
    "\n",
    "# Correcting spelling mistake using regex\n",
    "mappingDf[\"category_list\"] = mappingDf[\"category_list\"].replace({\"0\":\"na\"},regex=True)\n",
    "\n",
    "# Creating mapping\n",
    "mainSectors =  mappingDf.columns.tolist()[1:]\n",
    "m = pd.melt(mappingDf,id_vars=[\"category_list\"], value_vars=mainSectors,var_name=\"main_sector\")\n",
    "temp = m[m[\"value\"] == 1]\n",
    "temp.set_index(\"category_list\",inplace=True)\n",
    "mapping = temp.to_dict(\"index\")\n",
    "\n",
    "def getMainSector(primary):\n",
    "    if primary in mapping.keys():\n",
    "        return mapping[primary][\"main_sector\"]\n",
    "    else:\n",
    "        return \"NA\"\n",
    "\n",
    "GetMainSector = np.vectorize(getMainSector)\n",
    "\n",
    "# creating columns for primary sector and main sector in the main\n",
    "ventureInvestments[\"primary_sector\"] = ventureInvestments[\"category_list\"].str.split(\"|\").str[0]\n",
    "\n",
    "ventureInvestments[\"main_sector\"] = GetMainSector(ventureInvestments[\"primary_sector\"])\n",
    "\n",
    "#imputing rows with \"NA\" Category\n",
    "ventureInvestments = ventureInvestments[ventureInvestments[\"main_sector\"] != \"NA\"]\n",
    "ventureInvestments"
   ]
  },
  {
   "cell_type": "markdown",
   "metadata": {},
   "source": [
    "### Checkpoint 5: Sector Analysis 2\n",
    "<br>\n",
    "Sector analysis of top 3 countries based on funding types"
   ]
  },
  {
   "cell_type": "code",
   "execution_count": 7,
   "metadata": {},
   "outputs": [],
   "source": [
    " # extracting companies permalink whose average amount of investment is between 5 and 15 million for particular rounds\n",
    "byCompany  = ventureInvestments.groupby( [\"permalink\"])\n",
    "byCompany = byCompany.filter(lambda x: x[\"raised_amount_usd\"].sum() > 5000000 and x[\"raised_amount_usd\"].sum() < 15000000)\n",
    "companiesList = byCompany[\"permalink\"].tolist()\n",
    "\n",
    "\n",
    "#filtering investments based on permalinks extracted from above \n",
    "rangeInvestment = ventureInvestments[ventureInvestments[\"permalink\"].isin(companiesList)]\n"
   ]
  },
  {
   "cell_type": "code",
   "execution_count": 8,
   "metadata": {},
   "outputs": [
    {
     "name": "stdout",
     "output_type": "stream",
     "text": [
      "['USA', 'GBR', 'IND']\n"
     ]
    }
   ],
   "source": [
    "# extracting top 3 countries as list\n",
    "top3Countries = top3[\"country_code\"].tolist()[:3]\n",
    "print(top3Countries)"
   ]
  },
  {
   "cell_type": "code",
   "execution_count": 10,
   "metadata": {},
   "outputs": [
    {
     "name": "stdout",
     "output_type": "stream",
     "text": [
      "Top Country : USA\n",
      "total number of investments : 7666\n",
      "total amount of investments : 41493186794.0\n",
      "\n",
      "Top 3 Sectors :\n"
     ]
    },
    {
     "data": {
      "text/html": [
       "<div>\n",
       "<style scoped>\n",
       "    .dataframe tbody tr th:only-of-type {\n",
       "        vertical-align: middle;\n",
       "    }\n",
       "\n",
       "    .dataframe tbody tr th {\n",
       "        vertical-align: top;\n",
       "    }\n",
       "\n",
       "    .dataframe thead th {\n",
       "        text-align: right;\n",
       "    }\n",
       "</style>\n",
       "<table border=\"1\" class=\"dataframe\">\n",
       "  <thead>\n",
       "    <tr style=\"text-align: right;\">\n",
       "      <th></th>\n",
       "      <th>main_sector</th>\n",
       "      <th>raised_amount_usd Investment_Amount</th>\n",
       "      <th>raised_amount_usd Investments</th>\n",
       "    </tr>\n",
       "  </thead>\n",
       "  <tbody>\n",
       "    <tr>\n",
       "      <th>6</th>\n",
       "      <td>Others</td>\n",
       "      <td>10540109833.000</td>\n",
       "      <td>1862</td>\n",
       "    </tr>\n",
       "    <tr>\n",
       "      <th>7</th>\n",
       "      <td>Social, Finance, Analytics, Advertising</td>\n",
       "      <td>9099090999.000</td>\n",
       "      <td>1694</td>\n",
       "    </tr>\n",
       "    <tr>\n",
       "      <th>1</th>\n",
       "      <td>Cleantech / Semiconductors</td>\n",
       "      <td>7284168557.000</td>\n",
       "      <td>1446</td>\n",
       "    </tr>\n",
       "  </tbody>\n",
       "</table>\n",
       "</div>"
      ],
      "text/plain": [
       "                               main_sector  \\\n",
       "6                                   Others   \n",
       "7  Social, Finance, Analytics, Advertising   \n",
       "1               Cleantech / Semiconductors   \n",
       "\n",
       "   raised_amount_usd Investment_Amount  raised_amount_usd Investments  \n",
       "6                      10540109833.000                           1862  \n",
       "7                       9099090999.000                           1694  \n",
       "1                       7284168557.000                           1446  "
      ]
     },
     "metadata": {},
     "output_type": "display_data"
    },
    {
     "name": "stdout",
     "output_type": "stream",
     "text": [
      "\n",
      "Highest investment top sector :\n"
     ]
    },
    {
     "data": {
      "text/plain": [
       "name\n",
       "KoolSpan   14800000.000\n",
       "Name: raised_amount_usd, dtype: float64"
      ]
     },
     "metadata": {},
     "output_type": "display_data"
    },
    {
     "name": "stdout",
     "output_type": "stream",
     "text": [
      "\n",
      "Highest investment top second sector :\n"
     ]
    },
    {
     "data": {
      "text/plain": [
       "name\n",
       "Fundera   14900000.000\n",
       "Name: raised_amount_usd, dtype: float64"
      ]
     },
     "metadata": {},
     "output_type": "display_data"
    }
   ],
   "source": [
    "## Code for top country\n",
    "CountryInvestment = rangeInvestment[rangeInvestment[\"country_code\"] == top3Countries[0]].copy()\n",
    "D1t = CountryInvestment.groupby([\"main_sector\"]).agg({\"raised_amount_usd\":[\"sum\",\"count\"]}).reset_index().rename(columns={\"sum\":\"Investment_Amount\",\"count\":\"Investments\"})\n",
    "\n",
    "## to flatten the index and remove the multi-index warning\n",
    "D1t.columns = D1t.columns.map(' '.join).str.strip()\n",
    "D1 = pd.merge(CountryInvestment,D1t,how=\"inner\",right_on=\"main_sector\",left_on=\"main_sector\")\n",
    "\n",
    "print(\"Top Country :\",top3Countries[0])\n",
    "\n",
    "#Total count of investments(count)\n",
    "print(\"total number of investments :\",D1t[\"raised_amount_usd Investments\"].unique().sum())\n",
    "\n",
    "#Total amount of investments\n",
    "print(\"total amount of investments :\",D1t[\"raised_amount_usd Investment_Amount\"].unique().sum())\n",
    "\n",
    "## top sector investment count wise\n",
    "print(\"\\nTop 3 Sectors :\")\n",
    "display(D1t.nlargest(3,\"raised_amount_usd Investments\"))\n",
    "\n",
    "## creating a list of top 2 sectors for further use\n",
    "top2MainSectors = D1t.nlargest(2,\"raised_amount_usd Investments\")[\"main_sector\"].tolist()\n",
    "\n",
    "# ## Highest investment of top company\n",
    "print(\"\\nHighest investment top sector :\")\n",
    "display(CountryInvestment[CountryInvestment[\"main_sector\"] == top2MainSectors[0]].groupby(\"name\")[\"raised_amount_usd\"].sum().nlargest(1))\n",
    "\n",
    "# ## Highest investment of second top company\n",
    "print(\"\\nHighest investment top second sector :\")\n",
    "display(CountryInvestment[CountryInvestment[\"main_sector\"] == top2MainSectors[1]].groupby(\"name\")[\"raised_amount_usd\"].sum().nlargest(1))\n"
   ]
  },
  {
   "cell_type": "code",
   "execution_count": 11,
   "metadata": {},
   "outputs": [
    {
     "name": "stdout",
     "output_type": "stream",
     "text": [
      "Top Country : GBR\n",
      "total number of investments : 528\n",
      "total amount of investments : 3097978653.0\n",
      "\n",
      "Top 3 Sectors :\n"
     ]
    },
    {
     "data": {
      "text/html": [
       "<div>\n",
       "<style scoped>\n",
       "    .dataframe tbody tr th:only-of-type {\n",
       "        vertical-align: middle;\n",
       "    }\n",
       "\n",
       "    .dataframe tbody tr th {\n",
       "        vertical-align: top;\n",
       "    }\n",
       "\n",
       "    .dataframe thead th {\n",
       "        text-align: right;\n",
       "    }\n",
       "</style>\n",
       "<table border=\"1\" class=\"dataframe\">\n",
       "  <thead>\n",
       "    <tr style=\"text-align: right;\">\n",
       "      <th></th>\n",
       "      <th>main_sector</th>\n",
       "      <th>raised_amount_usd Investment_Amount</th>\n",
       "      <th>raised_amount_usd Investments</th>\n",
       "    </tr>\n",
       "  </thead>\n",
       "  <tbody>\n",
       "    <tr>\n",
       "      <th>6</th>\n",
       "      <td>Others</td>\n",
       "      <td>810930748.000</td>\n",
       "      <td>151</td>\n",
       "    </tr>\n",
       "    <tr>\n",
       "      <th>7</th>\n",
       "      <td>Social, Finance, Analytics, Advertising</td>\n",
       "      <td>619481410.000</td>\n",
       "      <td>114</td>\n",
       "    </tr>\n",
       "    <tr>\n",
       "      <th>1</th>\n",
       "      <td>Cleantech / Semiconductors</td>\n",
       "      <td>649824691.000</td>\n",
       "      <td>108</td>\n",
       "    </tr>\n",
       "  </tbody>\n",
       "</table>\n",
       "</div>"
      ],
      "text/plain": [
       "                               main_sector  \\\n",
       "6                                   Others   \n",
       "7  Social, Finance, Analytics, Advertising   \n",
       "1               Cleantech / Semiconductors   \n",
       "\n",
       "   raised_amount_usd Investment_Amount  raised_amount_usd Investments  \n",
       "6                        810930748.000                            151  \n",
       "7                        619481410.000                            114  \n",
       "1                        649824691.000                            108  "
      ]
     },
     "metadata": {},
     "output_type": "display_data"
    },
    {
     "name": "stdout",
     "output_type": "stream",
     "text": [
      "\n",
      "Highest investment top sector :\n"
     ]
    },
    {
     "data": {
      "text/plain": [
       "name\n",
       "KaliteUKASH   14400000.000\n",
       "Name: raised_amount_usd, dtype: float64"
      ]
     },
     "metadata": {},
     "output_type": "display_data"
    },
    {
     "name": "stdout",
     "output_type": "stream",
     "text": [
      "\n",
      "Highest investment top second sector :\n"
     ]
    },
    {
     "data": {
      "text/plain": [
       "name\n",
       "The Exchange Lab   14000000.000\n",
       "Name: raised_amount_usd, dtype: float64"
      ]
     },
     "metadata": {},
     "output_type": "display_data"
    }
   ],
   "source": [
    "## Code for top second country\n",
    "CountryInvestment = rangeInvestment[rangeInvestment[\"country_code\"] == top3Countries[1]].copy()\n",
    "D2t = CountryInvestment.groupby([\"main_sector\"]).agg({\"raised_amount_usd\":[\"sum\",\"count\"]}).reset_index().rename(columns={\"sum\":\"Investment_Amount\",\"count\":\"Investments\"})\n",
    "\n",
    "## to flatten the index and remove the multi-index warning\n",
    "D2t.columns = D2t.columns.map(' '.join).str.strip()\n",
    "D2 = pd.merge(CountryInvestment,D2t,how=\"inner\",right_on=\"main_sector\",left_on=\"main_sector\")\n",
    "\n",
    "print(\"Top Country :\",top3Countries[1])\n",
    "\n",
    "#Total count of investments(count)\n",
    "print(\"total number of investments :\",D2t[\"raised_amount_usd Investments\"].unique().sum())\n",
    "\n",
    "#Total amount of investments\n",
    "print(\"total amount of investments :\",D2t[\"raised_amount_usd Investment_Amount\"].unique().sum())\n",
    "\n",
    "## top sector investment count wise\n",
    "print(\"\\nTop 3 Sectors :\")\n",
    "display(D2t.nlargest(3,\"raised_amount_usd Investments\"))\n",
    "\n",
    "## creating a list of top 2 sectors for further use\n",
    "top2MainSectors = D2t.nlargest(2,\"raised_amount_usd Investments\")[\"main_sector\"].tolist()\n",
    "\n",
    "# ## Highest investment of top company\n",
    "print(\"\\nHighest investment top sector :\")\n",
    "display(CountryInvestment[CountryInvestment[\"main_sector\"] == top2MainSectors[0]].groupby(\"name\")[\"raised_amount_usd\"].sum().nlargest(1))\n",
    "\n",
    "# ## Highest investment of second top company\n",
    "print(\"\\nHighest investment top second sector :\")\n",
    "display(CountryInvestment[CountryInvestment[\"main_sector\"] == top2MainSectors[1]].groupby(\"name\")[\"raised_amount_usd\"].sum().nlargest(1))\n"
   ]
  },
  {
   "cell_type": "code",
   "execution_count": 12,
   "metadata": {
    "scrolled": false
   },
   "outputs": [
    {
     "name": "stdout",
     "output_type": "stream",
     "text": [
      "Top Country : IND\n",
      "total number of investments : 195\n",
      "total amount of investments : 1325244339.0\n",
      "\n",
      "Top 3 Sectors :\n"
     ]
    },
    {
     "data": {
      "text/html": [
       "<div>\n",
       "<style scoped>\n",
       "    .dataframe tbody tr th:only-of-type {\n",
       "        vertical-align: middle;\n",
       "    }\n",
       "\n",
       "    .dataframe tbody tr th {\n",
       "        vertical-align: top;\n",
       "    }\n",
       "\n",
       "    .dataframe thead th {\n",
       "        text-align: right;\n",
       "    }\n",
       "</style>\n",
       "<table border=\"1\" class=\"dataframe\">\n",
       "  <thead>\n",
       "    <tr style=\"text-align: right;\">\n",
       "      <th></th>\n",
       "      <th>main_sector</th>\n",
       "      <th>raised_amount_usd Investment_Amount</th>\n",
       "      <th>raised_amount_usd Investments</th>\n",
       "    </tr>\n",
       "  </thead>\n",
       "  <tbody>\n",
       "    <tr>\n",
       "      <th>6</th>\n",
       "      <td>Others</td>\n",
       "      <td>440131762.000</td>\n",
       "      <td>67</td>\n",
       "    </tr>\n",
       "    <tr>\n",
       "      <th>7</th>\n",
       "      <td>Social, Finance, Analytics, Advertising</td>\n",
       "      <td>248483500.000</td>\n",
       "      <td>36</td>\n",
       "    </tr>\n",
       "    <tr>\n",
       "      <th>5</th>\n",
       "      <td>News, Search and Messaging</td>\n",
       "      <td>160449077.000</td>\n",
       "      <td>28</td>\n",
       "    </tr>\n",
       "  </tbody>\n",
       "</table>\n",
       "</div>"
      ],
      "text/plain": [
       "                               main_sector  \\\n",
       "6                                   Others   \n",
       "7  Social, Finance, Analytics, Advertising   \n",
       "5               News, Search and Messaging   \n",
       "\n",
       "   raised_amount_usd Investment_Amount  raised_amount_usd Investments  \n",
       "6                        440131762.000                             67  \n",
       "7                        248483500.000                             36  \n",
       "5                        160449077.000                             28  "
      ]
     },
     "metadata": {},
     "output_type": "display_data"
    },
    {
     "name": "stdout",
     "output_type": "stream",
     "text": [
      "\n",
      "Highest investment top sector :\n"
     ]
    },
    {
     "data": {
      "text/plain": [
       "name\n",
       "Power2SME   14800000.000\n",
       "Name: raised_amount_usd, dtype: float64"
      ]
     },
     "metadata": {},
     "output_type": "display_data"
    },
    {
     "name": "stdout",
     "output_type": "stream",
     "text": [
      "\n",
      "Highest investment top second sector :\n"
     ]
    },
    {
     "data": {
      "text/plain": [
       "name\n",
       "FundsIndia   14770000.000\n",
       "Name: raised_amount_usd, dtype: float64"
      ]
     },
     "metadata": {},
     "output_type": "display_data"
    }
   ],
   "source": [
    "## Code for third top country\n",
    "CountryInvestment = rangeInvestment[rangeInvestment[\"country_code\"] == top3Countries[2]].copy()\n",
    "D3t = CountryInvestment.groupby([\"main_sector\"]).agg({\"raised_amount_usd\":[\"sum\",\"count\"]}).reset_index().rename(columns={\"sum\":\"Investment_Amount\",\"count\":\"Investments\"})\n",
    "\n",
    "## to flatten the index and remove the multi-index warning\n",
    "D3t.columns = D3t.columns.map(' '.join).str.strip()\n",
    "D3 = pd.merge(CountryInvestment,D3t,how=\"inner\",right_on=\"main_sector\",left_on=\"main_sector\")\n",
    "\n",
    "print(\"Top Country :\",top3Countries[2])\n",
    "\n",
    "#Total count of investments(count)\n",
    "print(\"total number of investments :\",D3t[\"raised_amount_usd Investments\"].unique().sum())\n",
    "\n",
    "#Total amount of investments\n",
    "print(\"total amount of investments :\",D3t[\"raised_amount_usd Investment_Amount\"].unique().sum())\n",
    "\n",
    "## top sector investment count wise\n",
    "print(\"\\nTop 3 Sectors :\")\n",
    "display(D3t.nlargest(3,\"raised_amount_usd Investment_Amount\"))\n",
    "\n",
    "## creating a list of top 2 sectors for further use\n",
    "top2MainSectors = D3t.nlargest(2,\"raised_amount_usd Investments\")[\"main_sector\"].tolist()\n",
    "\n",
    "# ## Highest investment of top company\n",
    "print(\"\\nHighest investment top sector :\")\n",
    "display(CountryInvestment[CountryInvestment[\"main_sector\"] == top2MainSectors[0]].groupby(\"name\")[\"raised_amount_usd\"].sum().nlargest(1))\n",
    "\n",
    "# ## Highest investment of second top company\n",
    "print(\"\\nHighest investment top second sector :\")\n",
    "display(CountryInvestment[CountryInvestment[\"main_sector\"] == top2MainSectors[1]].groupby(\"name\")[\"raised_amount_usd\"].sum().nlargest(1))"
   ]
  },
  {
   "cell_type": "markdown",
   "metadata": {},
   "source": [
    "### Checkpoint 6: Plots\n",
    "\n",
    "### Plot 1 : Count of total investment and mean amount of investment for seed, angel, private equity and venture"
   ]
  },
  {
   "cell_type": "code",
   "execution_count": 17,
   "metadata": {},
   "outputs": [
    {
     "data": {
      "image/png": "[encoded data removed]",
      "text/plain": [
       "<Figure size 1080x360 with 2 Axes>"
      ]
     },
     "metadata": {
      "needs_background": "light"
     },
     "output_type": "display_data"
    }
   ],
   "source": [
    "#Graph of Fractional Investment of angel,seed,venture and private equity\n",
    "meanInvestments = pd.DataFrame(byRoundTypeInvestment.groupby(\"funding_round_type\")[\"raised_amount_usd\"].mean()).reset_index()\n",
    "countInvestments = pd.DataFrame(byRoundTypeInvestment.groupby(\"funding_round_type\")[\"raised_amount_usd\"].count()).reset_index()\n",
    "totalInvestmentsCount = byRoundTypeInvestment[\"raised_amount_usd\"].count()\n",
    "countInvestments[\"part\"] = countInvestments[\"raised_amount_usd\"]/totalInvestmentsCount * 360\n",
    "\n",
    "fig, axs = plt.subplots(1, 2, figsize=(15, 5), sharey=False)\n",
    "\n",
    "\n",
    "axs[1].bar(meanInvestments[\"funding_round_type\"],meanInvestments[\"raised_amount_usd\"])\n",
    "axs[1].set_title(\"Mean Investment\",fontsize=\"x-large\")\n",
    "axs[1].set_xlabel(\"Funding Type\")\n",
    "axs[1].set_ylabel(\"Investments (USD)\")\n",
    "axs[1].grid()\n",
    "\n",
    "axs[0].pie(countInvestments[\"part\"],labels=countInvestments[\"funding_round_type\"],explode=(0,0, 0, 0.1),autopct='%1.0f%%')\n",
    "\n",
    "axs[0].set_title(\"Number of Investments\",fontsize=\"x-large\")\n",
    "axs[0].set_xlabel(\"Funding Type\")\n",
    "axs[0].grid()\n",
    "plt.show()"
   ]
  },
  {
   "cell_type": "markdown",
   "metadata": {},
   "source": [
    "### Plot 2 : Top 9 countries against total amount of investments"
   ]
  },
  {
   "cell_type": "code",
   "execution_count": 19,
   "metadata": {
    "scrolled": false
   },
   "outputs": [
    {
     "data": {
      "image/png": "[encoded data removed]",
      "text/plain": [
       "<Figure size 1080x360 with 1 Axes>"
      ]
     },
     "metadata": {
      "needs_background": "light"
     },
     "output_type": "display_data"
    }
   ],
   "source": [
    "# total amount of investments for top 9 countries for funding types\n",
    "top9CountriesInvestments = pd.DataFrame(top9).reset_index()\n",
    "countriesInvestmentChart = top9CountriesInvestments.plot(figsize=(15,5),kind=\"bar\", x=\"country_code\",y=\"raised_amount_usd\")\n",
    "countriesInvestmentChart.set_title(\"Country wise Investment\",fontsize='x-large')\n",
    "countriesInvestmentChart.set_xlabel(\"Countries\",fontsize='large')\n",
    "countriesInvestmentChart.set_ylabel(\"Investment (USD)\",fontsize='large')\n",
    "countriesInvestmentChart.get_legend().remove()\n",
    "countriesInvestmentChart.grid()\n",
    "plt.show()\n"
   ]
  },
  {
   "cell_type": "markdown",
   "metadata": {},
   "source": [
    "### Plot 3 : Number of Investments in top 3 sectors in top 3 countries for chosen funding type"
   ]
  },
  {
   "cell_type": "code",
   "execution_count": 28,
   "metadata": {},
   "outputs": [
    {
     "data": {
      "image/png": "[encoded data removed]",
      "text/plain": [
       "<Figure size 1080x504 with 1 Axes>"
      ]
     },
     "metadata": {
      "needs_background": "light"
     },
     "output_type": "display_data"
    }
   ],
   "source": [
    "#preparing data\n",
    "C1 = D1t.nlargest(3,\"raised_amount_usd Investment_Amount\")\n",
    "C2 = D2t.nlargest(3,\"raised_amount_usd Investment_Amount\")\n",
    "C3 = D3t.nlargest(3,\"raised_amount_usd Investment_Amount\")\n",
    "C1[\"country_code\"] = top3Countries[0]\n",
    "C2[\"country_code\"] = top3Countries[1]\n",
    "C3[\"country_code\"] = top3Countries[2]\n",
    "\n",
    "byCountrySector = pd.concat([C1,C2,C3])\n",
    "byCountrySector.drop([\"raised_amount_usd Investment_Amount\"],axis=1,inplace=True)\n",
    "byCountrySector.rename(columns={\"raised_amount_usd Investments\":\"raised_amount_usd\"},inplace=True)\n",
    "\n",
    "\n",
    "#unstacking columns for plotting\n",
    "byCountrySectorTop3=byCountrySector.groupby([\"country_code\",\"main_sector\"])[\"raised_amount_usd\"].sum().unstack()\n",
    "\n",
    "\n",
    "countriesFTInvestmentChart = byCountrySectorTop3.plot(figsize=(15,7),kind=\"bar\")\n",
    "countriesFTInvestmentChart.set_title(\"Number of Investments in Top 3 Countries and Sectors\",fontsize='x-large')\n",
    "countriesFTInvestmentChart.set_xlabel(\"Countries\",fontsize='large')\n",
    "countriesFTInvestmentChart.set_ylabel(\"Investment (Count)\",fontsize='large')\n",
    "countriesFTInvestmentChart.legend(title=\"Sectors\",fontsize='large',title_fontsize=\"xx-large\")\n",
    "plt.show()\n"
   ]
  }
 ],
 "metadata": {
  "kernelspec": {
   "display_name": "Python 3",
   "language": "python",
   "name": "python3"
  },
  "language_info": {
   "codemirror_mode": {
    "name": "ipython",
    "version": 3
   },
   "file_extension": ".py",
   "mimetype": "text/x-python",
   "name": "python",
   "nbconvert_exporter": "python",
   "pygments_lexer": "ipython3",
   "version": "3.8.3"
  }
 },
 "nbformat": 4,
 "nbformat_minor": 4
}
